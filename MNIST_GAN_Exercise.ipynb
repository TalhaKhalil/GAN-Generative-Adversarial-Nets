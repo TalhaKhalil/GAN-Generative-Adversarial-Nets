{
 "cells": [
  {
   "cell_type": "markdown",
   "metadata": {},
   "source": [
    "# Generative Adversarial Network\n",
    "\n",
    "In this notebook, we'll be building a generative adversarial network (GAN) trained on the MNIST dataset. From this, we'll be able to generate new handwritten digits!\n",
    "\n",
    "GANs were [first reported on](https://arxiv.org/abs/1406.2661) in 2014 from Ian Goodfellow and others in Yoshua Bengio's lab. Since then, GANs have exploded in popularity. Here are a few examples to check out:\n",
    "\n",
    "* [Pix2Pix](https://affinelayer.com/pixsrv/) \n",
    "* [CycleGAN & Pix2Pix in PyTorch, Jun-Yan Zhu](https://github.com/junyanz/pytorch-CycleGAN-and-pix2pix)\n",
    "* [A list of generative models](https://github.com/wiseodd/generative-models)\n",
    "\n",
    "The idea behind GANs is that you have two networks, a generator $G$ and a discriminator $D$, competing against each other. The generator makes \"fake\" data to pass to the discriminator. The discriminator also sees real training data and predicts if the data it's received is real or fake. \n",
    "> * The generator is trained to fool the discriminator, it wants to output data that looks _as close as possible_ to real, training data. \n",
    "* The discriminator is a classifier that is trained to figure out which data is real and which is fake. \n",
    "\n",
    "What ends up happening is that the generator learns to make data that is indistinguishable from real data to the discriminator.\n",
    "\n",
    "<img src='assets/gan_pipeline.png' width=70% />\n",
    "\n",
    "The general structure of a GAN is shown in the diagram above, using MNIST images as data. The latent sample is a random vector that the generator uses to construct its fake images. This is often called a **latent vector** and that vector space is called **latent space**. As the generator trains, it figures out how to map latent vectors to recognizable images that can fool the discriminator.\n",
    "\n",
    "If you're interested in generating only new images, you can throw out the discriminator after training. In this notebook, I'll show you how to define and train these adversarial networks in PyTorch and generate new images!"
   ]
  },
  {
   "cell_type": "code",
   "execution_count": 4,
   "metadata": {},
   "outputs": [],
   "source": [
    "%matplotlib inline\n",
    "\n",
    "import numpy as np\n",
    "import torch\n",
    "import matplotlib.pyplot as plt"
   ]
  },
  {
   "cell_type": "code",
   "execution_count": 5,
   "metadata": {},
   "outputs": [],
   "source": [
    "from torchvision import datasets\n",
    "import torchvision.transforms as transforms\n",
    "\n",
    "# number of subprocesses to use for data loading\n",
    "num_workers = 0\n",
    "# how many samples per batch to load\n",
    "batch_size = 64\n",
    "\n",
    "# convert data to torch.FloatTensor\n",
    "transform = transforms.ToTensor()\n",
    "\n",
    "# get the training datasets\n",
    "train_data = datasets.MNIST(root='data', train=True,\n",
    "                                   download=True, transform=transform)\n",
    "\n",
    "# prepare data loader\n",
    "train_loader = torch.utils.data.DataLoader(train_data, batch_size=batch_size,\n",
    "                                           num_workers=num_workers)"
   ]
  },
  {
   "cell_type": "markdown",
   "metadata": {},
   "source": [
    "### Visualize the data"
   ]
  },
  {
   "cell_type": "code",
   "execution_count": 6,
   "metadata": {},
   "outputs": [
    {
     "data": {
      "text/plain": [
       "<matplotlib.image.AxesImage at 0x7f89a5ce8c88>"
      ]
     },
     "execution_count": 6,
     "metadata": {},
     "output_type": "execute_result"
    },
    {
     "data": {
      "image/png": "[encoded data removed]",
      "text/plain": [
       "<matplotlib.figure.Figure at 0x7f89a5d50eb8>"
      ]
     },
     "metadata": {
      "needs_background": "light"
     },
     "output_type": "display_data"
    }
   ],
   "source": [
    "# obtain one batch of training images\n",
    "dataiter = iter(train_loader)\n",
    "images, labels = dataiter.next()\n",
    "images = images.numpy()\n",
    "\n",
    "# get one image from the batch\n",
    "img = np.squeeze(images[1])\n",
    "\n",
    "fig = plt.figure(figsize = (3,3)) \n",
    "ax = fig.add_subplot(111)\n",
    "ax.imshow(img, cmap='gray')"
   ]
  },
  {
   "cell_type": "markdown",
   "metadata": {},
   "source": [
    "---\n",
    "# Define the Model\n",
    "\n",
    "A GAN is comprised of two adversarial networks, a discriminator and a generator."
   ]
  },
  {
   "cell_type": "markdown",
   "metadata": {},
   "source": [
    "## Discriminator\n",
    "\n",
    "The discriminator network is going to be a pretty typical linear classifier. To make this network a universal function approximator, we'll need at least one hidden layer, and these hidden layers should have one key attribute:\n",
    "> All hidden layers will have a [Leaky ReLu](https://pytorch.org/docs/stable/nn.html#torch.nn.LeakyReLU) activation function applied to their outputs.\n",
    "\n",
    "<img src='assets/gan_network.png' width=70% />\n",
    "\n",
    "#### Leaky ReLu\n",
    "\n",
    "We should use a leaky ReLU to allow gradients to flow backwards through the layer unimpeded. A leaky ReLU is like a normal ReLU, except that there is a small non-zero output for negative input values.\n",
    "\n",
    "<img src='assets/leaky_relu.png' width=40% />\n",
    "\n",
    "#### Sigmoid Output\n",
    "\n",
    "We'll also take the approach of using a more numerically stable loss function on the outputs. Recall that we want the discriminator to output a value 0-1 indicating whether an image is _real or fake_. \n",
    "> We will ultimately use [BCEWithLogitsLoss](https://pytorch.org/docs/stable/nn.html#bcewithlogitsloss), which combines a `sigmoid` activation function **and** and binary cross entropy loss in one function. \n",
    "\n",
    "So, our final output layer should not have any activation function applied to it."
   ]
  },
  {
   "cell_type": "code",
   "execution_count": 7,
   "metadata": {},
   "outputs": [],
   "source": [
    "import torch.nn as nn\n",
    "import torch.nn.functional as F\n",
    "\n",
    "class Discriminator(nn.Module):\n",
    "\n",
    "    def __init__(self, input_size, hidden_dim, output_size):\n",
    "        super(Discriminator, self).__init__()\n",
    "        \n",
    "        # define hidden linear layers\n",
    "        self.fc1 = nn.Linear(input_size, hidden_dim*4)\n",
    "        self.fc2 = nn.Linear(hidden_dim*4, hidden_dim*2)\n",
    "        self.fc3 = nn.Linear(hidden_dim*2, hidden_dim)\n",
    "        \n",
    "        # final fully-connected layer\n",
    "        self.fc4 = nn.Linear(hidden_dim, output_size)\n",
    "        \n",
    "        # dropout layer \n",
    "        self.dropout = nn.Dropout(0.3)\n",
    "        \n",
    "        \n",
    "    def forward(self, x):\n",
    "        # flatten image\n",
    "        x = x.view(-1, 28*28)\n",
    "        # all hidden layers\n",
    "        x = F.leaky_relu(self.fc1(x), 0.2) # (input, negative_slope=0.2)\n",
    "        x = self.dropout(x)\n",
    "        x = F.leaky_relu(self.fc2(x), 0.2)\n",
    "        x = self.dropout(x)\n",
    "        x = F.leaky_relu(self.fc3(x), 0.2)\n",
    "        x = self.dropout(x)\n",
    "        # final layer\n",
    "        out = self.fc4(x)\n",
    "\n",
    "        return out\n"
   ]
  },
  {
   "cell_type": "markdown",
   "metadata": {},
   "source": [
    "## Generator\n",
    "\n",
    "The generator network will be almost exactly the same as the discriminator network, except that we're applying a [tanh activation function](https://pytorch.org/docs/stable/nn.html#tanh) to our output layer.\n",
    "\n",
    "#### tanh Output\n",
    "The generator has been found to perform the best with $tanh$ for the generator output, which scales the output to be between -1 and 1, instead of 0 and 1. \n",
    "\n",
    "<img src='assets/tanh_fn.png' width=40% />\n",
    "\n",
    "Recall that we also want these outputs to be comparable to the *real* input pixel values, which are read in as normalized values between 0 and 1. \n",
    "> So, we'll also have to **scale our real input images to have pixel values between -1 and 1** when we train the discriminator. \n",
    "\n",
    "I'll do this in the training loop, later on."
   ]
  },
  {
   "cell_type": "code",
   "execution_count": 8,
   "metadata": {},
   "outputs": [],
   "source": [
    "class Generator(nn.Module):\n",
    "\n",
    "    def __init__(self, input_size, hidden_dim, output_size):\n",
    "        super(Generator, self).__init__()\n",
    "        \n",
    "        # define hidden linear layers\n",
    "        self.fc1 = nn.Linear(input_size, hidden_dim)\n",
    "        self.fc2 = nn.Linear(hidden_dim, hidden_dim*2)\n",
    "        self.fc3 = nn.Linear(hidden_dim*2, hidden_dim*4)\n",
    "        \n",
    "        # final fully-connected layer\n",
    "        self.fc4 = nn.Linear(hidden_dim*4, output_size)\n",
    "        \n",
    "        # dropout layer \n",
    "        self.dropout = nn.Dropout(0.3)\n",
    "\n",
    "    def forward(self, x):\n",
    "        # all hidden layers\n",
    "        x = F.leaky_relu(self.fc1(x), 0.2) # (input, negative_slope=0.2)\n",
    "        x = self.dropout(x)\n",
    "        x = F.leaky_relu(self.fc2(x), 0.2)\n",
    "        x = self.dropout(x)\n",
    "        x = F.leaky_relu(self.fc3(x), 0.2)\n",
    "        x = self.dropout(x)\n",
    "        # final layer with tanh applied\n",
    "        out = F.tanh(self.fc4(x))\n",
    "\n",
    "        return out"
   ]
  },
  {
   "cell_type": "markdown",
   "metadata": {},
   "source": [
    "## Model hyperparameters"
   ]
  },
  {
   "cell_type": "code",
   "execution_count": 9,
   "metadata": {},
   "outputs": [],
   "source": [
    "# Discriminator hyperparams\n",
    "\n",
    "# Size of input image to discriminator (28*28)\n",
    "input_size = 784\n",
    "# Size of discriminator output (real or fake)\n",
    "d_output_size = 1\n",
    "# Size of last hidden layer in the discriminator\n",
    "d_hidden_size = 32\n",
    "\n",
    "# Generator hyperparams\n",
    "\n",
    "# Size of latent vector to give to generator\n",
    "z_size = 100\n",
    "# Size of discriminator output (generated image)\n",
    "g_output_size = 784\n",
    "# Size of first hidden layer in the generator\n",
    "g_hidden_size = 32"
   ]
  },
  {
   "cell_type": "markdown",
   "metadata": {},
   "source": [
    "## Build complete network\n",
    "\n",
    "Now we're instantiating the discriminator and generator from the classes defined above. Make sure you've passed in the correct input arguments."
   ]
  },
  {
   "cell_type": "code",
   "execution_count": 10,
   "metadata": {},
   "outputs": [
    {
     "name": "stdout",
     "output_type": "stream",
     "text": [
      "Discriminator(\n",
      "  (fc1): Linear(in_features=784, out_features=128, bias=True)\n",
      "  (fc2): Linear(in_features=128, out_features=64, bias=True)\n",
      "  (fc3): Linear(in_features=64, out_features=32, bias=True)\n",
      "  (fc4): Linear(in_features=32, out_features=1, bias=True)\n",
      "  (dropout): Dropout(p=0.3)\n",
      ")\n",
      "\n",
      "Generator(\n",
      "  (fc1): Linear(in_features=100, out_features=32, bias=True)\n",
      "  (fc2): Linear(in_features=32, out_features=64, bias=True)\n",
      "  (fc3): Linear(in_features=64, out_features=128, bias=True)\n",
      "  (fc4): Linear(in_features=128, out_features=784, bias=True)\n",
      "  (dropout): Dropout(p=0.3)\n",
      ")\n"
     ]
    }
   ],
   "source": [
    "# instantiate discriminator and generator\n",
    "D = Discriminator(input_size, d_hidden_size, d_output_size)\n",
    "G = Generator(z_size, g_hidden_size, g_output_size)\n",
    "\n",
    "# check that they are as you expect\n",
    "print(D)\n",
    "print()\n",
    "print(G)"
   ]
  },
  {
   "cell_type": "markdown",
   "metadata": {},
   "source": [
    "---\n",
    "## Discriminator and Generator Losses\n",
    "\n",
    "Now we need to calculate the losses. \n",
    "\n",
    "### Discriminator Losses\n",
    "\n",
    "> * For the discriminator, the total loss is the sum of the losses for real and fake images, `d_loss = d_real_loss + d_fake_loss`. \n",
    "* Remember that we want the discriminator to output 1 for real images and 0 for fake images, so we need to set up the losses to reflect that.\n",
    "\n",
    "<img src='assets/gan_pipeline.png' width=70% />\n",
    "\n",
    "The losses will by binary cross entropy loss with logits, which we can get with [BCEWithLogitsLoss](https://pytorch.org/docs/stable/nn.html#bcewithlogitsloss). This combines a `sigmoid` activation function **and** and binary cross entropy loss in one function.\n",
    "\n",
    "For the real images, we want `D(real_images) = 1`. That is, we want the discriminator to classify the the real images with a label = 1, indicating that these are real. To help the discriminator generalize better, the labels are **reduced a bit from 1.0 to 0.9**. For this, we'll use the parameter `smooth`; if True, then we should smooth our labels. In PyTorch, this looks like `labels = torch.ones(size) * 0.9`\n",
    "\n",
    "The discriminator loss for the fake data is similar. We want `D(fake_images) = 0`, where the fake images are the _generator output_, `fake_images = G(z)`. \n",
    "\n",
    "### Generator Loss\n",
    "\n",
    "The generator loss will look similar only with flipped labels. The generator's goal is to get `D(fake_images) = 1`. In this case, the labels are **flipped** to represent that the generator is trying to fool the discriminator into thinking that the images it generates (fakes) are real!"
   ]
  },
  {
   "cell_type": "code",
   "execution_count": 11,
   "metadata": {},
   "outputs": [],
   "source": [
    "# Calculate losses\n",
    "def real_loss(D_out, smooth=False):\n",
    "    batch_size = D_out.size(0)\n",
    "    # label smoothing\n",
    "    if smooth:\n",
    "        # smooth, real labels = 0.9\n",
    "        labels = torch.ones(batch_size)*0.9\n",
    "    else:\n",
    "        labels = torch.ones(batch_size) # real labels = 1\n",
    "        \n",
    "    # numerically stable loss\n",
    "    criterion = nn.BCEWithLogitsLoss()\n",
    "    # calculate loss\n",
    "    loss = criterion(D_out.squeeze(), labels)\n",
    "    return loss\n",
    "\n",
    "def fake_loss(D_out):\n",
    "    batch_size = D_out.size(0)\n",
    "    labels = torch.zeros(batch_size) # fake labels = 0\n",
    "    criterion = nn.BCEWithLogitsLoss()\n",
    "    # calculate loss\n",
    "    loss = criterion(D_out.squeeze(), labels)\n",
    "    return loss"
   ]
  },
  {
   "cell_type": "markdown",
   "metadata": {},
   "source": [
    "## Optimizers\n",
    "\n",
    "We want to update the generator and discriminator variables separately. So, we'll define two separate Adam optimizers."
   ]
  },
  {
   "cell_type": "code",
   "execution_count": 12,
   "metadata": {
    "scrolled": true
   },
   "outputs": [],
   "source": [
    "import torch.optim as optim\n",
    "\n",
    "# Optimizers\n",
    "lr = 0.002\n",
    "\n",
    "# Create optimizers for the discriminator and generator\n",
    "d_optimizer = optim.Adam(D.parameters(), lr)\n",
    "g_optimizer = optim.Adam(G.parameters(), lr)"
   ]
  },
  {
   "cell_type": "markdown",
   "metadata": {},
   "source": [
    "---\n",
    "## Training\n",
    "\n",
    "Training will involve alternating between training the discriminator and the generator. We'll use our functions `real_loss` and `fake_loss` to help us calculate the discriminator losses in all of the following cases.\n",
    "\n",
    "### Discriminator training\n",
    "1. Compute the discriminator loss on real, training images        \n",
    "2. Generate fake images\n",
    "3. Compute the discriminator loss on fake, generated images     \n",
    "4. Add up real and fake loss\n",
    "5. Perform backpropagation + an optimization step to update the discriminator's weights\n",
    "\n",
    "### Generator training\n",
    "1. Generate fake images\n",
    "2. Compute the discriminator loss on fake images, using **flipped** labels!\n",
    "3. Perform backpropagation + an optimization step to update the generator's weights\n",
    "\n",
    "#### Saving Samples\n",
    "\n",
    "As we train, we'll also print out some loss statistics and save some generated \"fake\" samples."
   ]
  },
  {
   "cell_type": "code",
   "execution_count": 13,
   "metadata": {
    "scrolled": true
   },
   "outputs": [
    {
     "name": "stdout",
     "output_type": "stream",
     "text": [
      "Epoch [    1/  100] | d_loss: 1.3910 | g_loss: 0.7540\n",
      "Epoch [    1/  100] | d_loss: 0.8267 | g_loss: 3.5204\n",
      "Epoch [    1/  100] | d_loss: 1.3742 | g_loss: 1.0402\n",
      "Epoch [    2/  100] | d_loss: 1.4460 | g_loss: 0.6414\n",
      "Epoch [    2/  100] | d_loss: 1.1908 | g_loss: 0.8640\n",
      "Epoch [    2/  100] | d_loss: 1.3746 | g_loss: 0.7956\n",
      "Epoch [    3/  100] | d_loss: 1.2675 | g_loss: 0.8583\n",
      "Epoch [    3/  100] | d_loss: 1.0902 | g_loss: 1.1364\n",
      "Epoch [    3/  100] | d_loss: 0.9928 | g_loss: 1.4427\n",
      "Epoch [    4/  100] | d_loss: 1.1189 | g_loss: 1.1187\n",
      "Epoch [    4/  100] | d_loss: 0.8854 | g_loss: 2.4055\n",
      "Epoch [    4/  100] | d_loss: 1.0193 | g_loss: 1.6056\n",
      "Epoch [    5/  100] | d_loss: 1.2501 | g_loss: 1.1711\n",
      "Epoch [    5/  100] | d_loss: 0.9041 | g_loss: 6.7387\n",
      "Epoch [    5/  100] | d_loss: 0.6270 | g_loss: 6.8882\n",
      "Epoch [    6/  100] | d_loss: 0.5130 | g_loss: 9.2510\n",
      "Epoch [    6/  100] | d_loss: 0.3549 | g_loss: 21.8112\n",
      "Epoch [    6/  100] | d_loss: 0.3438 | g_loss: 20.6414\n",
      "Epoch [    7/  100] | d_loss: 0.3452 | g_loss: 21.5972\n",
      "Epoch [    7/  100] | d_loss: 0.3325 | g_loss: 23.1455\n",
      "Epoch [    7/  100] | d_loss: 0.3361 | g_loss: 24.2161\n",
      "Epoch [    8/  100] | d_loss: 0.3382 | g_loss: 15.4611\n",
      "Epoch [    8/  100] | d_loss: 0.3688 | g_loss: 17.4829\n",
      "Epoch [    8/  100] | d_loss: 0.3415 | g_loss: 24.8000\n",
      "Epoch [    9/  100] | d_loss: 0.3308 | g_loss: 26.3888\n",
      "Epoch [    9/  100] | d_loss: 0.3299 | g_loss: 26.7924\n",
      "Epoch [    9/  100] | d_loss: 0.3338 | g_loss: 31.5653\n",
      "Epoch [   10/  100] | d_loss: 0.3303 | g_loss: 22.5286\n",
      "Epoch [   10/  100] | d_loss: 0.3296 | g_loss: 32.3305\n",
      "Epoch [   10/  100] | d_loss: 0.3309 | g_loss: 20.5966\n",
      "Epoch [   11/  100] | d_loss: 0.3292 | g_loss: 34.2348\n",
      "Epoch [   11/  100] | d_loss: 0.3282 | g_loss: 22.8465\n",
      "Epoch [   11/  100] | d_loss: 0.3317 | g_loss: 15.4991\n",
      "Epoch [   12/  100] | d_loss: 0.3328 | g_loss: 4.7867\n",
      "Epoch [   12/  100] | d_loss: 0.3269 | g_loss: 13.9933\n",
      "Epoch [   12/  100] | d_loss: 0.3285 | g_loss: 16.7420\n",
      "Epoch [   13/  100] | d_loss: 0.3289 | g_loss: 14.4269\n",
      "Epoch [   13/  100] | d_loss: 0.3453 | g_loss: 13.7447\n",
      "Epoch [   13/  100] | d_loss: 0.3448 | g_loss: 21.7360\n",
      "Epoch [   14/  100] | d_loss: 0.3928 | g_loss: 11.2632\n",
      "Epoch [   14/  100] | d_loss: 0.3682 | g_loss: 20.5818\n",
      "Epoch [   14/  100] | d_loss: 0.3368 | g_loss: 13.4600\n",
      "Epoch [   15/  100] | d_loss: 0.3305 | g_loss: 15.3804\n",
      "Epoch [   15/  100] | d_loss: 0.3597 | g_loss: 15.4891\n",
      "Epoch [   15/  100] | d_loss: 0.3792 | g_loss: 12.5350\n",
      "Epoch [   16/  100] | d_loss: 0.3430 | g_loss: 14.6808\n",
      "Epoch [   16/  100] | d_loss: 0.3463 | g_loss: 11.9945\n",
      "Epoch [   16/  100] | d_loss: 0.3921 | g_loss: 11.5286\n",
      "Epoch [   17/  100] | d_loss: 0.4438 | g_loss: 17.3881\n",
      "Epoch [   17/  100] | d_loss: 0.3514 | g_loss: 9.1154\n",
      "Epoch [   17/  100] | d_loss: 0.3462 | g_loss: 15.3458\n",
      "Epoch [   18/  100] | d_loss: 0.6313 | g_loss: 16.6554\n",
      "Epoch [   18/  100] | d_loss: 0.3429 | g_loss: 12.5302\n",
      "Epoch [   18/  100] | d_loss: 0.3313 | g_loss: 8.4882\n",
      "Epoch [   19/  100] | d_loss: 0.3613 | g_loss: 10.7645\n",
      "Epoch [   19/  100] | d_loss: 0.3356 | g_loss: 14.4513\n",
      "Epoch [   19/  100] | d_loss: 0.3578 | g_loss: 16.3795\n",
      "Epoch [   20/  100] | d_loss: 0.3518 | g_loss: 10.7779\n",
      "Epoch [   20/  100] | d_loss: 0.3422 | g_loss: 10.7427\n",
      "Epoch [   20/  100] | d_loss: 0.3474 | g_loss: 12.0058\n",
      "Epoch [   21/  100] | d_loss: 0.3481 | g_loss: 14.5721\n",
      "Epoch [   21/  100] | d_loss: 0.3752 | g_loss: 14.8073\n",
      "Epoch [   21/  100] | d_loss: 0.3561 | g_loss: 14.9304\n",
      "Epoch [   22/  100] | d_loss: 0.3845 | g_loss: 11.6397\n",
      "Epoch [   22/  100] | d_loss: 0.3738 | g_loss: 9.9483\n",
      "Epoch [   22/  100] | d_loss: 0.3597 | g_loss: 11.5969\n",
      "Epoch [   23/  100] | d_loss: 0.3578 | g_loss: 10.4737\n",
      "Epoch [   23/  100] | d_loss: 0.3421 | g_loss: 13.0641\n",
      "Epoch [   23/  100] | d_loss: 0.3414 | g_loss: 14.7790\n",
      "Epoch [   24/  100] | d_loss: 0.3458 | g_loss: 15.7487\n",
      "Epoch [   24/  100] | d_loss: 0.3479 | g_loss: 14.4330\n",
      "Epoch [   24/  100] | d_loss: 0.3477 | g_loss: 14.6542\n",
      "Epoch [   25/  100] | d_loss: 0.3394 | g_loss: 13.9499\n",
      "Epoch [   25/  100] | d_loss: 0.3578 | g_loss: 12.6513\n",
      "Epoch [   25/  100] | d_loss: 0.3438 | g_loss: 12.1136\n",
      "Epoch [   26/  100] | d_loss: 0.3858 | g_loss: 21.9300\n",
      "Epoch [   26/  100] | d_loss: 0.3961 | g_loss: 9.5758\n",
      "Epoch [   26/  100] | d_loss: 0.3542 | g_loss: 12.4269\n",
      "Epoch [   27/  100] | d_loss: 0.4077 | g_loss: 16.8886\n",
      "Epoch [   27/  100] | d_loss: 0.3539 | g_loss: 11.7879\n",
      "Epoch [   27/  100] | d_loss: 0.4738 | g_loss: 15.9845\n",
      "Epoch [   28/  100] | d_loss: 0.4613 | g_loss: 10.9018\n",
      "Epoch [   28/  100] | d_loss: 0.3800 | g_loss: 9.7077\n",
      "Epoch [   28/  100] | d_loss: 0.3339 | g_loss: 14.1484\n",
      "Epoch [   29/  100] | d_loss: 0.4563 | g_loss: 11.9906\n",
      "Epoch [   29/  100] | d_loss: 0.3549 | g_loss: 15.5519\n",
      "Epoch [   29/  100] | d_loss: 0.3913 | g_loss: 10.9535\n",
      "Epoch [   30/  100] | d_loss: 0.5608 | g_loss: 17.4360\n",
      "Epoch [   30/  100] | d_loss: 0.3418 | g_loss: 13.7706\n",
      "Epoch [   30/  100] | d_loss: 0.3487 | g_loss: 14.0695\n",
      "Epoch [   31/  100] | d_loss: 0.3526 | g_loss: 13.7734\n",
      "Epoch [   31/  100] | d_loss: 0.3885 | g_loss: 11.6702\n",
      "Epoch [   31/  100] | d_loss: 0.3648 | g_loss: 10.3246\n",
      "Epoch [   32/  100] | d_loss: 0.3899 | g_loss: 17.2431\n",
      "Epoch [   32/  100] | d_loss: 0.4098 | g_loss: 9.8493\n",
      "Epoch [   32/  100] | d_loss: 0.3683 | g_loss: 12.1776\n",
      "Epoch [   33/  100] | d_loss: 0.3625 | g_loss: 12.3156\n",
      "Epoch [   33/  100] | d_loss: 0.3583 | g_loss: 10.1855\n",
      "Epoch [   33/  100] | d_loss: 0.3497 | g_loss: 12.7968\n",
      "Epoch [   34/  100] | d_loss: 0.3510 | g_loss: 15.9118\n",
      "Epoch [   34/  100] | d_loss: 0.3951 | g_loss: 12.2473\n",
      "Epoch [   34/  100] | d_loss: 0.4249 | g_loss: 9.8521\n",
      "Epoch [   35/  100] | d_loss: 0.3636 | g_loss: 12.4735\n",
      "Epoch [   35/  100] | d_loss: 0.4045 | g_loss: 11.0044\n",
      "Epoch [   35/  100] | d_loss: 0.3906 | g_loss: 13.6328\n",
      "Epoch [   36/  100] | d_loss: 0.3823 | g_loss: 14.9034\n",
      "Epoch [   36/  100] | d_loss: 0.3382 | g_loss: 11.3916\n",
      "Epoch [   36/  100] | d_loss: 0.3730 | g_loss: 12.2348\n",
      "Epoch [   37/  100] | d_loss: 0.3992 | g_loss: 12.5877\n",
      "Epoch [   37/  100] | d_loss: 0.3740 | g_loss: 10.6040\n",
      "Epoch [   37/  100] | d_loss: 0.3638 | g_loss: 13.9912\n",
      "Epoch [   38/  100] | d_loss: 0.3739 | g_loss: 12.3524\n",
      "Epoch [   38/  100] | d_loss: 0.3532 | g_loss: 10.7091\n",
      "Epoch [   38/  100] | d_loss: 0.3590 | g_loss: 14.0884\n",
      "Epoch [   39/  100] | d_loss: 0.3738 | g_loss: 13.8068\n",
      "Epoch [   39/  100] | d_loss: 0.3768 | g_loss: 12.8935\n",
      "Epoch [   39/  100] | d_loss: 0.3479 | g_loss: 12.0556\n",
      "Epoch [   40/  100] | d_loss: 0.3532 | g_loss: 15.0569\n",
      "Epoch [   40/  100] | d_loss: 0.3328 | g_loss: 12.4529\n",
      "Epoch [   40/  100] | d_loss: 0.3473 | g_loss: 14.7094\n",
      "Epoch [   41/  100] | d_loss: 0.3941 | g_loss: 12.4398\n",
      "Epoch [   41/  100] | d_loss: 0.3980 | g_loss: 10.6153\n",
      "Epoch [   41/  100] | d_loss: 0.3748 | g_loss: 10.8348\n",
      "Epoch [   42/  100] | d_loss: 0.3525 | g_loss: 12.5024\n",
      "Epoch [   42/  100] | d_loss: 0.3400 | g_loss: 10.9781\n",
      "Epoch [   42/  100] | d_loss: 0.3532 | g_loss: 14.9584\n",
      "Epoch [   43/  100] | d_loss: 0.3953 | g_loss: 15.3306\n",
      "Epoch [   43/  100] | d_loss: 0.3571 | g_loss: 13.1406\n",
      "Epoch [   43/  100] | d_loss: 0.3351 | g_loss: 16.1041\n",
      "Epoch [   44/  100] | d_loss: 0.4021 | g_loss: 13.5782\n",
      "Epoch [   44/  100] | d_loss: 0.3745 | g_loss: 10.4468\n",
      "Epoch [   44/  100] | d_loss: 0.3414 | g_loss: 14.1687\n",
      "Epoch [   45/  100] | d_loss: 0.3680 | g_loss: 13.2081\n",
      "Epoch [   45/  100] | d_loss: 0.3965 | g_loss: 14.4234\n",
      "Epoch [   45/  100] | d_loss: 0.3509 | g_loss: 12.9836\n",
      "Epoch [   46/  100] | d_loss: 0.3546 | g_loss: 18.3347\n",
      "Epoch [   46/  100] | d_loss: 0.4251 | g_loss: 9.6971\n",
      "Epoch [   46/  100] | d_loss: 0.3384 | g_loss: 13.2474\n",
      "Epoch [   47/  100] | d_loss: 0.4609 | g_loss: 14.1125\n",
      "Epoch [   47/  100] | d_loss: 0.4530 | g_loss: 7.9574\n",
      "Epoch [   47/  100] | d_loss: 0.3486 | g_loss: 10.1995\n",
      "Epoch [   48/  100] | d_loss: 0.4008 | g_loss: 12.3815\n",
      "Epoch [   48/  100] | d_loss: 0.3891 | g_loss: 8.0932\n",
      "Epoch [   48/  100] | d_loss: 0.3525 | g_loss: 13.0963\n",
      "Epoch [   49/  100] | d_loss: 0.3921 | g_loss: 11.3387\n",
      "Epoch [   49/  100] | d_loss: 0.3711 | g_loss: 12.0453\n",
      "Epoch [   49/  100] | d_loss: 0.3439 | g_loss: 11.8064\n",
      "Epoch [   50/  100] | d_loss: 0.3503 | g_loss: 14.2631\n",
      "Epoch [   50/  100] | d_loss: 0.3900 | g_loss: 12.1826\n",
      "Epoch [   50/  100] | d_loss: 0.3748 | g_loss: 11.2795\n",
      "Epoch [   51/  100] | d_loss: 0.3812 | g_loss: 13.4839\n",
      "Epoch [   51/  100] | d_loss: 0.3732 | g_loss: 12.2169\n",
      "Epoch [   51/  100] | d_loss: 0.3762 | g_loss: 14.8917\n",
      "Epoch [   52/  100] | d_loss: 0.4150 | g_loss: 10.9822\n",
      "Epoch [   52/  100] | d_loss: 0.4046 | g_loss: 10.9681\n",
      "Epoch [   52/  100] | d_loss: 0.3573 | g_loss: 15.0643\n",
      "Epoch [   53/  100] | d_loss: 0.3473 | g_loss: 13.0457\n",
      "Epoch [   53/  100] | d_loss: 0.3330 | g_loss: 13.9979\n",
      "Epoch [   53/  100] | d_loss: 0.3689 | g_loss: 14.0962\n",
      "Epoch [   54/  100] | d_loss: 0.3456 | g_loss: 15.4927\n",
      "Epoch [   54/  100] | d_loss: 0.4207 | g_loss: 12.7626\n",
      "Epoch [   54/  100] | d_loss: 0.3936 | g_loss: 12.6614\n",
      "Epoch [   55/  100] | d_loss: 0.5345 | g_loss: 15.0192\n",
      "Epoch [   55/  100] | d_loss: 0.4420 | g_loss: 9.9782\n",
      "Epoch [   55/  100] | d_loss: 0.3412 | g_loss: 15.5216\n",
      "Epoch [   56/  100] | d_loss: 0.3413 | g_loss: 12.5075\n",
      "Epoch [   56/  100] | d_loss: 0.3488 | g_loss: 13.1730\n",
      "Epoch [   56/  100] | d_loss: 0.3735 | g_loss: 16.7729\n",
      "Epoch [   57/  100] | d_loss: 0.4026 | g_loss: 17.1882\n",
      "Epoch [   57/  100] | d_loss: 0.3538 | g_loss: 11.6616\n",
      "Epoch [   57/  100] | d_loss: 0.3915 | g_loss: 12.1867\n",
      "Epoch [   58/  100] | d_loss: 0.4074 | g_loss: 12.0775\n",
      "Epoch [   58/  100] | d_loss: 0.3465 | g_loss: 10.3525\n",
      "Epoch [   58/  100] | d_loss: 0.4220 | g_loss: 10.6650\n",
      "Epoch [   59/  100] | d_loss: 0.3456 | g_loss: 15.2466\n",
      "Epoch [   59/  100] | d_loss: 0.3587 | g_loss: 12.0078\n",
      "Epoch [   59/  100] | d_loss: 0.3472 | g_loss: 14.2304\n",
      "Epoch [   60/  100] | d_loss: 0.3588 | g_loss: 13.5930\n",
      "Epoch [   60/  100] | d_loss: 0.3603 | g_loss: 12.2216\n",
      "Epoch [   60/  100] | d_loss: 0.3512 | g_loss: 14.9517\n",
      "Epoch [   61/  100] | d_loss: 0.3866 | g_loss: 13.6104\n",
      "Epoch [   61/  100] | d_loss: 0.4296 | g_loss: 12.5271\n",
      "Epoch [   61/  100] | d_loss: 0.3612 | g_loss: 13.1269\n",
      "Epoch [   62/  100] | d_loss: 0.3511 | g_loss: 15.1092\n",
      "Epoch [   62/  100] | d_loss: 0.3835 | g_loss: 17.9067\n",
      "Epoch [   62/  100] | d_loss: 0.3768 | g_loss: 18.1637\n",
      "Epoch [   63/  100] | d_loss: 0.3644 | g_loss: 14.9938\n",
      "Epoch [   63/  100] | d_loss: 0.3503 | g_loss: 14.4669\n",
      "Epoch [   63/  100] | d_loss: 0.3776 | g_loss: 14.7720\n",
      "Epoch [   64/  100] | d_loss: 0.3445 | g_loss: 16.4324\n",
      "Epoch [   64/  100] | d_loss: 0.3474 | g_loss: 16.0045\n",
      "Epoch [   64/  100] | d_loss: 0.3694 | g_loss: 13.8713\n",
      "Epoch [   65/  100] | d_loss: 0.3619 | g_loss: 14.0576\n",
      "Epoch [   65/  100] | d_loss: 0.3940 | g_loss: 11.7911\n",
      "Epoch [   65/  100] | d_loss: 0.3401 | g_loss: 16.9877\n",
      "Epoch [   66/  100] | d_loss: 0.3784 | g_loss: 16.7871\n",
      "Epoch [   66/  100] | d_loss: 0.3687 | g_loss: 11.0891\n",
      "Epoch [   66/  100] | d_loss: 0.3980 | g_loss: 11.9014\n",
      "Epoch [   67/  100] | d_loss: 0.3420 | g_loss: 16.6173\n",
      "Epoch [   67/  100] | d_loss: 0.3526 | g_loss: 14.2525\n",
      "Epoch [   67/  100] | d_loss: 0.3375 | g_loss: 14.4496\n",
      "Epoch [   68/  100] | d_loss: 0.3520 | g_loss: 13.6310\n",
      "Epoch [   68/  100] | d_loss: 0.4206 | g_loss: 9.0960\n",
      "Epoch [   68/  100] | d_loss: 0.3500 | g_loss: 12.1913\n",
      "Epoch [   69/  100] | d_loss: 0.3579 | g_loss: 9.3730\n",
      "Epoch [   69/  100] | d_loss: 0.3772 | g_loss: 10.2987\n",
      "Epoch [   69/  100] | d_loss: 0.3388 | g_loss: 15.9004\n",
      "Epoch [   70/  100] | d_loss: 0.3653 | g_loss: 13.1314\n",
      "Epoch [   70/  100] | d_loss: 0.3743 | g_loss: 12.0316\n",
      "Epoch [   70/  100] | d_loss: 0.3393 | g_loss: 18.3135\n",
      "Epoch [   71/  100] | d_loss: 0.3775 | g_loss: 10.6339\n",
      "Epoch [   71/  100] | d_loss: 0.3855 | g_loss: 12.4211\n",
      "Epoch [   71/  100] | d_loss: 0.3532 | g_loss: 15.3411\n",
      "Epoch [   72/  100] | d_loss: 0.3473 | g_loss: 14.7407\n",
      "Epoch [   72/  100] | d_loss: 0.3508 | g_loss: 12.0655\n",
      "Epoch [   72/  100] | d_loss: 0.3556 | g_loss: 13.9715\n",
      "Epoch [   73/  100] | d_loss: 0.3371 | g_loss: 17.1978\n",
      "Epoch [   73/  100] | d_loss: 0.3526 | g_loss: 13.0619\n",
      "Epoch [   73/  100] | d_loss: 0.3775 | g_loss: 9.3104\n",
      "Epoch [   74/  100] | d_loss: 0.3726 | g_loss: 15.6164\n",
      "Epoch [   74/  100] | d_loss: 0.3799 | g_loss: 9.7574\n",
      "Epoch [   74/  100] | d_loss: 0.3460 | g_loss: 17.8924\n",
      "Epoch [   75/  100] | d_loss: 0.3875 | g_loss: 14.5097\n",
      "Epoch [   75/  100] | d_loss: 0.3644 | g_loss: 13.8816\n",
      "Epoch [   75/  100] | d_loss: 0.3731 | g_loss: 18.8267\n",
      "Epoch [   76/  100] | d_loss: 0.3545 | g_loss: 16.0110\n",
      "Epoch [   76/  100] | d_loss: 0.3826 | g_loss: 13.8692\n",
      "Epoch [   76/  100] | d_loss: 0.3413 | g_loss: 12.4682\n",
      "Epoch [   77/  100] | d_loss: 0.3390 | g_loss: 14.6470\n",
      "Epoch [   77/  100] | d_loss: 0.3374 | g_loss: 10.3861\n",
      "Epoch [   77/  100] | d_loss: 0.3889 | g_loss: 17.7023\n",
      "Epoch [   78/  100] | d_loss: 0.3628 | g_loss: 12.1320\n",
      "Epoch [   78/  100] | d_loss: 0.3389 | g_loss: 14.4761\n",
      "Epoch [   78/  100] | d_loss: 0.3615 | g_loss: 13.9190\n",
      "Epoch [   79/  100] | d_loss: 0.4020 | g_loss: 14.1502\n",
      "Epoch [   79/  100] | d_loss: 0.3504 | g_loss: 13.9875\n",
      "Epoch [   79/  100] | d_loss: 0.3350 | g_loss: 16.3492\n",
      "Epoch [   80/  100] | d_loss: 0.3771 | g_loss: 17.8127\n",
      "Epoch [   80/  100] | d_loss: 0.3811 | g_loss: 12.6431\n",
      "Epoch [   80/  100] | d_loss: 0.3509 | g_loss: 12.9651\n",
      "Epoch [   81/  100] | d_loss: 0.4054 | g_loss: 16.9895\n",
      "Epoch [   81/  100] | d_loss: 0.3821 | g_loss: 17.2647\n",
      "Epoch [   81/  100] | d_loss: 0.3336 | g_loss: 17.5324\n",
      "Epoch [   82/  100] | d_loss: 0.3921 | g_loss: 12.7206\n",
      "Epoch [   82/  100] | d_loss: 0.3708 | g_loss: 11.9779\n",
      "Epoch [   82/  100] | d_loss: 0.3344 | g_loss: 17.6825\n",
      "Epoch [   83/  100] | d_loss: 0.3933 | g_loss: 14.7377\n",
      "Epoch [   83/  100] | d_loss: 0.3529 | g_loss: 10.4325\n",
      "Epoch [   83/  100] | d_loss: 0.3336 | g_loss: 13.5729\n",
      "Epoch [   84/  100] | d_loss: 0.3342 | g_loss: 16.1531\n",
      "Epoch [   84/  100] | d_loss: 0.3742 | g_loss: 11.2958\n",
      "Epoch [   84/  100] | d_loss: 0.3559 | g_loss: 15.6620\n",
      "Epoch [   85/  100] | d_loss: 0.3437 | g_loss: 16.2500\n",
      "Epoch [   85/  100] | d_loss: 0.4282 | g_loss: 9.7124\n",
      "Epoch [   85/  100] | d_loss: 0.3545 | g_loss: 17.4083\n",
      "Epoch [   86/  100] | d_loss: 0.3559 | g_loss: 12.5225\n",
      "Epoch [   86/  100] | d_loss: 0.3888 | g_loss: 11.5760\n",
      "Epoch [   86/  100] | d_loss: 0.3426 | g_loss: 14.5828\n",
      "Epoch [   87/  100] | d_loss: 0.3509 | g_loss: 16.7176\n",
      "Epoch [   87/  100] | d_loss: 0.3458 | g_loss: 11.3375\n",
      "Epoch [   87/  100] | d_loss: 0.3500 | g_loss: 14.6410\n",
      "Epoch [   88/  100] | d_loss: 0.3776 | g_loss: 14.3559\n",
      "Epoch [   88/  100] | d_loss: 0.4108 | g_loss: 10.2043\n",
      "Epoch [   88/  100] | d_loss: 0.3532 | g_loss: 13.1051\n",
      "Epoch [   89/  100] | d_loss: 0.3556 | g_loss: 15.3392\n",
      "Epoch [   89/  100] | d_loss: 0.3545 | g_loss: 15.0959\n",
      "Epoch [   89/  100] | d_loss: 0.3354 | g_loss: 12.9470\n",
      "Epoch [   90/  100] | d_loss: 0.3601 | g_loss: 10.8979\n",
      "Epoch [   90/  100] | d_loss: 0.3365 | g_loss: 14.7178\n",
      "Epoch [   90/  100] | d_loss: 0.4113 | g_loss: 12.2420\n",
      "Epoch [   91/  100] | d_loss: 0.3441 | g_loss: 14.7237\n",
      "Epoch [   91/  100] | d_loss: 0.3499 | g_loss: 13.9832\n",
      "Epoch [   91/  100] | d_loss: 0.3423 | g_loss: 16.2861\n",
      "Epoch [   92/  100] | d_loss: 0.3776 | g_loss: 11.5125\n",
      "Epoch [   92/  100] | d_loss: 0.3656 | g_loss: 12.0998\n",
      "Epoch [   92/  100] | d_loss: 0.3591 | g_loss: 19.9001\n",
      "Epoch [   93/  100] | d_loss: 0.3512 | g_loss: 14.9699\n",
      "Epoch [   93/  100] | d_loss: 0.3798 | g_loss: 12.2036\n",
      "Epoch [   93/  100] | d_loss: 0.3555 | g_loss: 11.3004\n",
      "Epoch [   94/  100] | d_loss: 0.3856 | g_loss: 20.6794\n",
      "Epoch [   94/  100] | d_loss: 0.3356 | g_loss: 11.6918\n",
      "Epoch [   94/  100] | d_loss: 0.3573 | g_loss: 14.9799\n",
      "Epoch [   95/  100] | d_loss: 0.3388 | g_loss: 19.0492\n",
      "Epoch [   95/  100] | d_loss: 0.3663 | g_loss: 12.5062\n",
      "Epoch [   95/  100] | d_loss: 0.3440 | g_loss: 13.0136\n",
      "Epoch [   96/  100] | d_loss: 0.3590 | g_loss: 17.4550\n",
      "Epoch [   96/  100] | d_loss: 0.3438 | g_loss: 11.9085\n",
      "Epoch [   96/  100] | d_loss: 0.3452 | g_loss: 15.3110\n",
      "Epoch [   97/  100] | d_loss: 0.3353 | g_loss: 18.1229\n",
      "Epoch [   97/  100] | d_loss: 0.3342 | g_loss: 10.3375\n",
      "Epoch [   97/  100] | d_loss: 0.3701 | g_loss: 15.1421\n",
      "Epoch [   98/  100] | d_loss: 0.3459 | g_loss: 18.4275\n",
      "Epoch [   98/  100] | d_loss: 0.3342 | g_loss: 15.5474\n",
      "Epoch [   98/  100] | d_loss: 0.3561 | g_loss: 13.8279\n",
      "Epoch [   99/  100] | d_loss: 0.3522 | g_loss: 11.3864\n",
      "Epoch [   99/  100] | d_loss: 0.3839 | g_loss: 13.4865\n",
      "Epoch [   99/  100] | d_loss: 0.3353 | g_loss: 18.3415\n",
      "Epoch [  100/  100] | d_loss: 0.3876 | g_loss: 21.3152\n",
      "Epoch [  100/  100] | d_loss: 0.3936 | g_loss: 14.2720\n",
      "Epoch [  100/  100] | d_loss: 0.3330 | g_loss: 15.5552\n"
     ]
    }
   ],
   "source": [
    "import pickle as pkl\n",
    "\n",
    "# training hyperparams\n",
    "num_epochs = 100\n",
    "\n",
    "# keep track of loss and generated, \"fake\" samples\n",
    "samples = []\n",
    "losses = []\n",
    "\n",
    "print_every = 400\n",
    "\n",
    "# Get some fixed data for sampling. These are images that are held\n",
    "# constant throughout training, and allow us to inspect the model's performance\n",
    "sample_size=16\n",
    "fixed_z = np.random.uniform(-1, 1, size=(sample_size, z_size))\n",
    "fixed_z = torch.from_numpy(fixed_z).float()\n",
    "\n",
    "# train the network\n",
    "D.train()\n",
    "G.train()\n",
    "for epoch in range(num_epochs):\n",
    "    \n",
    "    for batch_i, (real_images, _) in enumerate(train_loader):\n",
    "                \n",
    "        batch_size = real_images.size(0)\n",
    "        \n",
    "        ## Important rescaling step ## \n",
    "        real_images = real_images*2 - 1  # rescale input images from [0,1) to [-1, 1)\n",
    "        \n",
    "        # ============================================\n",
    "        #            TRAIN THE DISCRIMINATOR\n",
    "        # ============================================\n",
    "        \n",
    "        d_optimizer.zero_grad()\n",
    "        \n",
    "        # 1. Train with real images\n",
    "\n",
    "        # Compute the discriminator losses on real images \n",
    "        # smooth the real labels\n",
    "        D_real = D(real_images)\n",
    "        d_real_loss = real_loss(D_real, smooth=True)\n",
    "        \n",
    "        # 2. Train with fake images\n",
    "        \n",
    "        # Generate fake images\n",
    "        z = np.random.uniform(-1, 1, size=(batch_size, z_size))\n",
    "        z = torch.from_numpy(z).float()\n",
    "        fake_images = G(z)\n",
    "        \n",
    "        # Compute the discriminator losses on fake images        \n",
    "        D_fake = D(fake_images)\n",
    "        d_fake_loss = fake_loss(D_fake)\n",
    "        \n",
    "        # add up loss and perform backprop\n",
    "        d_loss = d_real_loss + d_fake_loss\n",
    "        d_loss.backward()\n",
    "        d_optimizer.step()\n",
    "        \n",
    "        \n",
    "        # =========================================\n",
    "        #            TRAIN THE GENERATOR\n",
    "        # =========================================\n",
    "        g_optimizer.zero_grad()\n",
    "        \n",
    "        # 1. Train with fake images and flipped labels\n",
    "        \n",
    "        # Generate fake images\n",
    "        z = np.random.uniform(-1, 1, size=(batch_size, z_size))\n",
    "        z = torch.from_numpy(z).float()\n",
    "        fake_images = G(z)\n",
    "        \n",
    "        # Compute the discriminator losses on fake images \n",
    "        # using flipped labels!\n",
    "        D_fake = D(fake_images)\n",
    "        g_loss = real_loss(D_fake) # use real loss to flip labels\n",
    "        \n",
    "        # perform backprop\n",
    "        g_loss.backward()\n",
    "        g_optimizer.step()\n",
    "\n",
    "        # Print some loss stats\n",
    "        if batch_i % print_every == 0:\n",
    "            # print discriminator and generator loss\n",
    "            print('Epoch [{:5d}/{:5d}] | d_loss: {:6.4f} | g_loss: {:6.4f}'.format(\n",
    "                    epoch+1, num_epochs, d_loss.item(), g_loss.item()))\n",
    "\n",
    "    \n",
    "    ## AFTER EACH EPOCH##\n",
    "    # append discriminator loss and generator loss\n",
    "    losses.append((d_loss.item(), g_loss.item()))\n",
    "    \n",
    "    # generate and save sample, fake images\n",
    "    G.eval() # eval mode for generating samples\n",
    "    samples_z = G(fixed_z)\n",
    "    samples.append(samples_z)\n",
    "    G.train() # back to train mode\n",
    "\n",
    "\n",
    "# Save training generator samples\n",
    "with open('train_samples.pkl', 'wb') as f:\n",
    "    pkl.dump(samples, f)"
   ]
  },
  {
   "cell_type": "markdown",
   "metadata": {},
   "source": [
    "## Training loss\n",
    "\n",
    "Here we'll plot the training losses for the generator and discriminator, recorded after each epoch."
   ]
  },
  {
   "cell_type": "code",
   "execution_count": 14,
   "metadata": {},
   "outputs": [
    {
     "data": {
      "text/plain": [
       "<matplotlib.legend.Legend at 0x7f89a359c9b0>"
      ]
     },
     "execution_count": 14,
     "metadata": {},
     "output_type": "execute_result"
    },
    {
     "data": {
      "image/png": "[encoded data removed]",
      "text/plain": [
       "<matplotlib.figure.Figure at 0x7f89a5c45cc0>"
      ]
     },
     "metadata": {
      "needs_background": "light"
     },
     "output_type": "display_data"
    }
   ],
   "source": [
    "fig, ax = plt.subplots()\n",
    "losses = np.array(losses)\n",
    "plt.plot(losses.T[0], label='Discriminator')\n",
    "plt.plot(losses.T[1], label='Generator')\n",
    "plt.title(\"Training Losses\")\n",
    "plt.legend()"
   ]
  },
  {
   "cell_type": "markdown",
   "metadata": {},
   "source": [
    "## Generator samples from training\n",
    "\n",
    "Here we can view samples of images from the generator. First we'll look at the images we saved during training."
   ]
  },
  {
   "cell_type": "code",
   "execution_count": 15,
   "metadata": {},
   "outputs": [],
   "source": [
    "# helper function for viewing a list of passed in sample images\n",
    "def view_samples(epoch, samples):\n",
    "    fig, axes = plt.subplots(figsize=(7,7), nrows=4, ncols=4, sharey=True, sharex=True)\n",
    "    for ax, img in zip(axes.flatten(), samples[epoch]):\n",
    "        img = img.detach()\n",
    "        ax.xaxis.set_visible(False)\n",
    "        ax.yaxis.set_visible(False)\n",
    "        im = ax.imshow(img.reshape((28,28)), cmap='Greys_r')"
   ]
  },
  {
   "cell_type": "code",
   "execution_count": 16,
   "metadata": {},
   "outputs": [],
   "source": [
    "# Load samples from generator, taken while training\n",
    "with open('train_samples.pkl', 'rb') as f:\n",
    "    samples = pkl.load(f)"
   ]
  },
  {
   "cell_type": "markdown",
   "metadata": {},
   "source": [
    "These are samples from the final training epoch. You can see the generator is able to reproduce numbers like 1, 7, 3, 2. Since this is just a sample, it isn't representative of the full range of images this generator can make."
   ]
  },
  {
   "cell_type": "code",
   "execution_count": 17,
   "metadata": {},
   "outputs": [
    {
     "data": {
      "image/png": "[encoded data removed]",
      "text/plain": [
       "<matplotlib.figure.Figure at 0x7f89a71a79e8>"
      ]
     },
     "metadata": {
      "needs_background": "light"
     },
     "output_type": "display_data"
    }
   ],
   "source": [
    "# -1 indicates final epoch's samples (the last in the list)\n",
    "view_samples(-1, samples)"
   ]
  },
  {
   "cell_type": "markdown",
   "metadata": {},
   "source": [
    "Below I'm showing the generated images as the network was training, every 10 epochs."
   ]
  },
  {
   "cell_type": "code",
   "execution_count": 18,
   "metadata": {},
   "outputs": [
    {
     "data": {
      "image/png": "[encoded data removed]",
      "text/plain": [
       "<matplotlib.figure.Figure at 0x7f89a463beb8>"
      ]
     },
     "metadata": {
      "needs_background": "light"
     },
     "output_type": "display_data"
    }
   ],
   "source": [
    "rows = 10 # split epochs into 10, so 100/10 = every 10 epochs\n",
    "cols = 6\n",
    "fig, axes = plt.subplots(figsize=(7,12), nrows=rows, ncols=cols, sharex=True, sharey=True)\n",
    "\n",
    "for sample, ax_row in zip(samples[::int(len(samples)/rows)], axes):\n",
    "    for img, ax in zip(sample[::int(len(sample)/cols)], ax_row):\n",
    "        img = img.detach()\n",
    "        ax.imshow(img.reshape((28,28)), cmap='Greys_r')\n",
    "        ax.xaxis.set_visible(False)\n",
    "        ax.yaxis.set_visible(False)"
   ]
  },
  {
   "cell_type": "markdown",
   "metadata": {},
   "source": [
    "It starts out as all noise. Then it learns to make only the center white and the rest black. You can start to see some number like structures appear out of the noise like 1s and 9s."
   ]
  },
  {
   "cell_type": "markdown",
   "metadata": {},
   "source": [
    "## Sampling from the generator\n",
    "\n",
    "We can also get completely new images from the generator by using the checkpoint we saved after training. **We just need to pass in a new latent vector $z$ and we'll get new samples**!"
   ]
  },
  {
   "cell_type": "code",
   "execution_count": 19,
   "metadata": {},
   "outputs": [
    {
     "data": {
      "image/png": "[encoded data removed]",
      "text/plain": [
       "<matplotlib.figure.Figure at 0x7f89a4686940>"
      ]
     },
     "metadata": {
      "needs_background": "light"
     },
     "output_type": "display_data"
    }
   ],
   "source": [
    "# randomly generated, new latent vectors\n",
    "sample_size=16\n",
    "rand_z = np.random.uniform(-1, 1, size=(sample_size, z_size))\n",
    "rand_z = torch.from_numpy(rand_z).float()\n",
    "\n",
    "G.eval() # eval mode\n",
    "# generated samples\n",
    "rand_images = G(rand_z)\n",
    "\n",
    "# 0 indicates the first set of samples in the passed in list\n",
    "# and we only have one batch of samples, here\n",
    "view_samples(0, [rand_images])"
   ]
  },
  {
   "cell_type": "code",
   "execution_count": null,
   "metadata": {},
   "outputs": [],
   "source": []
  }
 ],
 "metadata": {
  "kernelspec": {
   "display_name": "Python 3",
   "language": "python",
   "name": "python3"
  },
  "language_info": {
   "codemirror_mode": {
    "name": "ipython",
    "version": 3
   },
   "file_extension": ".py",
   "mimetype": "text/x-python",
   "name": "python",
   "nbconvert_exporter": "python",
   "pygments_lexer": "ipython3",
   "version": "3.6.3"
  }
 },
 "nbformat": 4,
 "nbformat_minor": 2
}
